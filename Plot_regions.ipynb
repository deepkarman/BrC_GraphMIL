{
 "cells": [
  {
   "cell_type": "code",
   "execution_count": 1,
   "id": "broadband-terminology",
   "metadata": {},
   "outputs": [],
   "source": [
    "import cv2\n",
    "import numpy as np\n",
    "import random\n",
    "import os, sys, glob, pickle\n",
    "from xml.dom import minidom\n",
    "import matplotlib.path as mplPath\n",
    "import numpy as np\n",
    "#import openslide\n",
    "import time\n",
    "import pdb\n",
    "import torch\n",
    "import torchvision\n",
    "import torch.nn as nn\n",
    "import torchvision.models as models\n",
    "from torch.utils.data import Dataset, DataLoader\n",
    "import torchvision.transforms.functional as F\n",
    "\n",
    "from PIL import Image\n",
    "Image.MAX_IMAGE_PIXELS = None"
   ]
  },
  {
   "cell_type": "code",
   "execution_count": 2,
   "id": "statewide-gender",
   "metadata": {},
   "outputs": [
    {
     "name": "stdout",
     "output_type": "stream",
     "text": [
      "cuda\n"
     ]
    }
   ],
   "source": [
    "use_cuda = torch.cuda.is_available()\n",
    "device = torch.device(\"cuda\" if use_cuda else \"cpu\")\n",
    "print(device)"
   ]
  },
  {
   "cell_type": "code",
   "execution_count": 3,
   "id": "innovative-waterproof",
   "metadata": {},
   "outputs": [],
   "source": [
    "# resnet50 = models.resnet50(pretrained=True).to(device)"
   ]
  },
  {
   "cell_type": "code",
   "execution_count": 4,
   "id": "endless-grain",
   "metadata": {},
   "outputs": [],
   "source": [
    "MODEL_PATH = '_ckpt_epoch_9.ckpt'\n",
    "RETURN_PREACTIVATION = True  # return features from the model, if false return classification logits\n",
    "NUM_CLASSES = 4  # only used if RETURN_PREACTIVATION = False\n",
    "\n",
    "\n",
    "def load_model_weights(model, weights):\n",
    "\n",
    "    model_dict = model.state_dict()\n",
    "    weights = {k: v for k, v in weights.items() if k in model_dict}\n",
    "    if weights == {}:\n",
    "        print('No weight could be loaded..')\n",
    "    model_dict.update(weights)\n",
    "    model.load_state_dict(model_dict)\n",
    "\n",
    "    return model\n",
    "\n",
    "\n",
    "model = models.__dict__['resnet18'](pretrained=False)\n",
    "\n",
    "state = torch.load(MODEL_PATH, map_location=device)\n",
    "\n",
    "state_dict = state['state_dict']\n",
    "for key in list(state_dict.keys()):\n",
    "    state_dict[key.replace('model.', '').replace('resnet.', '')] = state_dict.pop(key)\n",
    "\n",
    "model = load_model_weights(model, state_dict)\n",
    "\n",
    "if RETURN_PREACTIVATION:\n",
    "    model.fc = torch.nn.Sequential()\n",
    "else:\n",
    "    model.fc = torch.nn.Linear(model.fc.in_features, NUM_CLASSES)\n",
    "\n",
    "model = model.cuda()"
   ]
  },
  {
   "cell_type": "code",
   "execution_count": 3,
   "id": "renewable-clone",
   "metadata": {},
   "outputs": [],
   "source": [
    "MODEL_PATH = 'tenpercent_resnet18.ckpt'\n",
    "RETURN_PREACTIVATION = True  # return features from the model, if false return classification logits\n",
    "NUM_CLASSES = 4  # only used if RETURN_PREACTIVATION = False\n",
    "\n",
    "\n",
    "def load_model_weights(model, weights):\n",
    "\n",
    "    model_dict = model.state_dict()\n",
    "    weights = {k: v for k, v in weights.items() if k in model_dict}\n",
    "    if weights == {}:\n",
    "        print('No weight could be loaded..')\n",
    "    model_dict.update(weights)\n",
    "    model.load_state_dict(model_dict)\n",
    "\n",
    "    return model\n",
    "\n",
    "\n",
    "model = models.__dict__['resnet18'](pretrained=False)\n",
    "\n",
    "state = torch.load(MODEL_PATH, map_location=device)\n",
    "\n",
    "state_dict = state['state_dict']\n",
    "for key in list(state_dict.keys()):\n",
    "    state_dict[key.replace('model.', '').replace('resnet.', '')] = state_dict.pop(key)\n",
    "\n",
    "model = load_model_weights(model, state_dict)\n",
    "\n",
    "if RETURN_PREACTIVATION:\n",
    "    model.fc = torch.nn.Sequential()\n",
    "else:\n",
    "    model.fc = torch.nn.Linear(model.fc.in_features, NUM_CLASSES)\n",
    "\n",
    "model = model.cuda()"
   ]
  },
  {
   "cell_type": "code",
   "execution_count": 4,
   "id": "certain-arkansas",
   "metadata": {},
   "outputs": [],
   "source": [
    "class SiameseNetwork(nn.Module):\n",
    "    def __init__(self, model):\n",
    "        super(SiameseNetwork, self).__init__()\n",
    "        self.model = model\n",
    "    \n",
    "    def forward_once(self, x):\n",
    "        out = self.model(x)\n",
    "        return out\n",
    "    \n",
    "    def forward(self, x1, x2):\n",
    "        out1 = self.forward_once(x1)\n",
    "        out2 = self.forward_once(x2)\n",
    "        return out1, out2"
   ]
  },
  {
   "cell_type": "code",
   "execution_count": 5,
   "id": "norman-denver",
   "metadata": {},
   "outputs": [],
   "source": [
    "class SiamDataset(Dataset):\n",
    "    def __init__(self, img_file_list, mode='load', affine_param=5, jitter_param=0.4, detailed=False):\n",
    "        self.img_file_list = img_file_list\n",
    "        self.detailed = detailed\n",
    "        self.randomCrop = torchvision.transforms.RandomCrop(224)\n",
    "        \n",
    "        self.mode = mode\n",
    "        if mode=='create':\n",
    "            self.single_transform = torchvision.transforms.Compose([\n",
    "                torchvision.transforms.RandomCrop(224),\n",
    "                torchvision.transforms.ToTensor()\n",
    "            ])\n",
    "            self.augment = torchvision.transforms.Compose([\n",
    "                torchvision.transforms.ToPILImage(),\n",
    "                torchvision.transforms.RandomHorizontalFlip(),\n",
    "                torchvision.transforms.RandomAffine(affine_param),\n",
    "                torchvision.transforms.ColorJitter(\n",
    "                    brightness=jitter_param,\n",
    "                    contrast=jitter_param,\n",
    "                    saturation=jitter_param),\n",
    "                torchvision.transforms.ToTensor()\n",
    "            ])\n",
    "\n",
    "            self.wsi_list = []\n",
    "            self.wsi_weight = []\n",
    "            for img_file in img_file_list:\n",
    "                wsi = Image.open(img_file).convert('RGB')\n",
    "                self.wsi_list.append(wsi)\n",
    "                h,w = wsi.size\n",
    "                self.wsi_weight.append(h*w)\n",
    "            \n",
    "            \n",
    "            \n",
    "        \n",
    "    def sample(self):\n",
    "        wsi = random.choices(self.wsi_list, weights=self.wsi_weight)[0]\n",
    "\n",
    "        img = self.single_transform(wsi)\n",
    "        \n",
    "        return img\n",
    "    \n",
    "    \n",
    "    def sample_detailed(self):\n",
    "        wsi = random.choices(self.wsi_list, weights=self.wsi_weight)[0]\n",
    "        wsi_idx = self.wsi_list.index(wsi)\n",
    "        \n",
    "        i,j,h,w = self.randomCrop.get_params(wsi, self.randomCrop.size)\n",
    "        \n",
    "        return wsi_idx, i,j, F.crop(wsi, i,j,h,w)\n",
    "               \n",
    "        \n",
    "    def __getitem__(self, index):\n",
    "        if self.mode=='create':\n",
    "            img1 = self.sample()\n",
    "\n",
    "            augment = np.random.binomial(1,0.5)\n",
    "\n",
    "            img2 = self.augment(img1) if augment else self.sample()\n",
    "        else:\n",
    "            pkl = open(self.img_file_list[index], \"rb\")\n",
    "            img1, img2, augment = pickle.load(pkl)\n",
    "            pkl.close()\n",
    "        \n",
    "        return [img1, img2, augment]\n",
    "        \n",
    "        \n",
    "        \n",
    "    def __len__(self):\n",
    "        if self.mode=='create':\n",
    "            acc = 0\n",
    "            for wsi in self.wsi_list:\n",
    "                h,w = wsi.size\n",
    "                acc += 1.*h*w/(224*224)\n",
    "            return int(acc)\n",
    "        \n",
    "        return len(self.img_file_list)"
   ]
  },
  {
   "cell_type": "code",
   "execution_count": 6,
   "id": "objective-advocacy",
   "metadata": {},
   "outputs": [],
   "source": [
    "def create_dataset():\n",
    "    img_file_list = glob.glob(\"/home/Drive3/Karman/TCGA_dataset/TCGA-A1-A0SD-01Z-00-DX1.DB17BFA9-D951-42A8-91D2-F4C2EBC6EB9F/*.png\")\n",
    "    dataset = SiamDataset(img_file_list, mode='create')\n",
    "\n",
    "    out_file_path = \"data/tcga_\"\n",
    "    if not os.path.exists(out_file_path):\n",
    "        os.makedirs(out_file_path)\n",
    "\n",
    "    torch.manual_seed(77077)\n",
    "    random.seed(71017)\n",
    "\n",
    "    idx=0\n",
    "    for data in dataset:\n",
    "        pickle_out = open(out_file_path+str(idx),\"wb\")\n",
    "        pickle.dump(data, pickle_out)\n",
    "        pickle_out.close()\n",
    "        idx += 1\n",
    "        if idx>=len(dataset):\n",
    "            break\n",
    "\n",
    "#create_dataset()"
   ]
  },
  {
   "cell_type": "code",
   "execution_count": 7,
   "id": "existing-mainstream",
   "metadata": {},
   "outputs": [],
   "source": [
    "class ContrastiveLoss(nn.Module):\n",
    "    # label == 1 means same sample, label == 0 means different samples\n",
    "    def __init__(self, margin=0., do_average=True):\n",
    "        super(ContrastiveLoss, self).__init__()\n",
    "        self.margin = margin\n",
    "        self.eps = 1e-6\n",
    "        self.relu = nn.ReLU()\n",
    "        self.do_average = do_average\n",
    "    \n",
    "    def forward(self, out1, out2, labels):\n",
    "        dist = (out1 - out2).pow(2).sum(1)\n",
    "        loss = 0.5*(labels*dist + \n",
    "                   (1 + -1.*labels)*self.relu(self.margin - (dist+self.eps).sqrt()).pow(2))\n",
    "        return loss.mean() if self.do_average else loss.sum()"
   ]
  },
  {
   "cell_type": "code",
   "execution_count": 8,
   "id": "isolated-daughter",
   "metadata": {},
   "outputs": [],
   "source": [
    "def train(args, model, device, loss_fn, train_loader, optimizer, num_epochs):\n",
    "    \n",
    "    \n",
    "    for epoch in range(num_epochs): \n",
    "        epoch_loss = 0.\n",
    "        for batch_idx, data in enumerate(train_loader):\n",
    "            x1 = data[0].to(device)\n",
    "            x2 = data[1].to(device)\n",
    "            label = data[2].to(device)\n",
    "\n",
    "            optimizer.zero_grad()\n",
    "\n",
    "            model.train()\n",
    "\n",
    "            out1, out2 = model(x1, x2)\n",
    "\n",
    "            loss = loss_fn(out1, out2, label) # calculates the loss\n",
    "            curr_loss = loss.item()\n",
    "            loss.backward()\n",
    "            optimizer.step()\n",
    "            epoch_loss += curr_loss\n",
    "            \n",
    "            del x1\n",
    "            del x2\n",
    "            del label\n",
    "            \n",
    "            if batch_idx % args['log_interval'] == 0 :\n",
    "                print('Train Epoch: {} [({:.0f}%)]\\tLoss: {:.4f}'.format(\n",
    "                    epoch, 100. * (batch_idx+1) / len(train_loader), curr_loss))\n",
    "            if batch_idx+1 == len(train_loader):\n",
    "                print('\\nEpoch: {} Total Loss: {:.4f}\\n'.format(epoch, epoch_loss))"
   ]
  },
  {
   "cell_type": "code",
   "execution_count": 9,
   "id": "comfortable-affairs",
   "metadata": {},
   "outputs": [],
   "source": [
    "args = {}\n",
    "args['batch_size'] = 150\n",
    "args['epochs'] = 50\n",
    "args['seed']=990077\n",
    "args['lr']=0.01\n",
    "args['train_ratio']=0.8\n",
    "args['log_interval']=8\n",
    "\n",
    "torch.manual_seed(args['seed'])\n",
    "\n",
    "kwargs = {'num_workers': 4, 'pin_memory': True} if use_cuda else {}"
   ]
  },
  {
   "cell_type": "code",
   "execution_count": 10,
   "id": "elder-mauritius",
   "metadata": {},
   "outputs": [],
   "source": [
    "siamNetwork = SiameseNetwork(model)\n",
    "\n",
    "data_file_list = sorted(glob.glob(\"data/*\"))\n",
    "dataset = SiamDataset(data_file_list)\n",
    "\n",
    "train_loader = DataLoader(dataset=dataset, batch_size=args['batch_size'], shuffle = True, **kwargs)\n",
    "\n",
    "loss_fn = ContrastiveLoss(do_average=False)\n",
    "\n",
    "optimizer = torch.optim.Adam(model.parameters(), lr=args['lr'])"
   ]
  },
  {
   "cell_type": "code",
   "execution_count": 18,
   "id": "concerned-terrorist",
   "metadata": {},
   "outputs": [
    {
     "ename": "KeyboardInterrupt",
     "evalue": "",
     "output_type": "error",
     "traceback": [
      "\u001b[0;31m---------------------------------------------------------------------------\u001b[0m",
      "\u001b[0;31mKeyboardInterrupt\u001b[0m                         Traceback (most recent call last)",
      "\u001b[0;32m<ipython-input-18-9bcc7994de8f>\u001b[0m in \u001b[0;36m<module>\u001b[0;34m\u001b[0m\n\u001b[0;32m----> 1\u001b[0;31m \u001b[0mtrain\u001b[0m\u001b[0;34m(\u001b[0m\u001b[0margs\u001b[0m\u001b[0;34m,\u001b[0m \u001b[0msiamNetwork\u001b[0m\u001b[0;34m,\u001b[0m \u001b[0mdevice\u001b[0m\u001b[0;34m,\u001b[0m \u001b[0mloss_fn\u001b[0m\u001b[0;34m,\u001b[0m \u001b[0mtrain_loader\u001b[0m\u001b[0;34m,\u001b[0m \u001b[0moptimizer\u001b[0m\u001b[0;34m,\u001b[0m \u001b[0margs\u001b[0m\u001b[0;34m[\u001b[0m\u001b[0;34m'epochs'\u001b[0m\u001b[0;34m]\u001b[0m\u001b[0;34m)\u001b[0m\u001b[0;34m\u001b[0m\u001b[0;34m\u001b[0m\u001b[0m\n\u001b[0m",
      "\u001b[0;32m<ipython-input-8-8f389b0dcfc0>\u001b[0m in \u001b[0;36mtrain\u001b[0;34m(args, model, device, loss_fn, train_loader, optimizer, num_epochs)\u001b[0m\n\u001b[1;32m      4\u001b[0m     \u001b[0;32mfor\u001b[0m \u001b[0mepoch\u001b[0m \u001b[0;32min\u001b[0m \u001b[0mrange\u001b[0m\u001b[0;34m(\u001b[0m\u001b[0mnum_epochs\u001b[0m\u001b[0;34m)\u001b[0m\u001b[0;34m:\u001b[0m\u001b[0;34m\u001b[0m\u001b[0;34m\u001b[0m\u001b[0m\n\u001b[1;32m      5\u001b[0m         \u001b[0mepoch_loss\u001b[0m \u001b[0;34m=\u001b[0m \u001b[0;36m0.\u001b[0m\u001b[0;34m\u001b[0m\u001b[0;34m\u001b[0m\u001b[0m\n\u001b[0;32m----> 6\u001b[0;31m         \u001b[0;32mfor\u001b[0m \u001b[0mbatch_idx\u001b[0m\u001b[0;34m,\u001b[0m \u001b[0mdata\u001b[0m \u001b[0;32min\u001b[0m \u001b[0menumerate\u001b[0m\u001b[0;34m(\u001b[0m\u001b[0mtrain_loader\u001b[0m\u001b[0;34m)\u001b[0m\u001b[0;34m:\u001b[0m\u001b[0;34m\u001b[0m\u001b[0;34m\u001b[0m\u001b[0m\n\u001b[0m\u001b[1;32m      7\u001b[0m             \u001b[0mx1\u001b[0m \u001b[0;34m=\u001b[0m \u001b[0mdata\u001b[0m\u001b[0;34m[\u001b[0m\u001b[0;36m0\u001b[0m\u001b[0;34m]\u001b[0m\u001b[0;34m.\u001b[0m\u001b[0mto\u001b[0m\u001b[0;34m(\u001b[0m\u001b[0mdevice\u001b[0m\u001b[0;34m)\u001b[0m\u001b[0;34m\u001b[0m\u001b[0;34m\u001b[0m\u001b[0m\n\u001b[1;32m      8\u001b[0m             \u001b[0mx2\u001b[0m \u001b[0;34m=\u001b[0m \u001b[0mdata\u001b[0m\u001b[0;34m[\u001b[0m\u001b[0;36m1\u001b[0m\u001b[0;34m]\u001b[0m\u001b[0;34m.\u001b[0m\u001b[0mto\u001b[0m\u001b[0;34m(\u001b[0m\u001b[0mdevice\u001b[0m\u001b[0;34m)\u001b[0m\u001b[0;34m\u001b[0m\u001b[0;34m\u001b[0m\u001b[0m\n",
      "\u001b[0;32m~/.conda/envs/py37/lib/python3.7/site-packages/torch/utils/data/dataloader.py\u001b[0m in \u001b[0;36m__next__\u001b[0;34m(self)\u001b[0m\n\u001b[1;32m    361\u001b[0m \u001b[0;34m\u001b[0m\u001b[0m\n\u001b[1;32m    362\u001b[0m     \u001b[0;32mdef\u001b[0m \u001b[0m__next__\u001b[0m\u001b[0;34m(\u001b[0m\u001b[0mself\u001b[0m\u001b[0;34m)\u001b[0m\u001b[0;34m:\u001b[0m\u001b[0;34m\u001b[0m\u001b[0;34m\u001b[0m\u001b[0m\n\u001b[0;32m--> 363\u001b[0;31m         \u001b[0mdata\u001b[0m \u001b[0;34m=\u001b[0m \u001b[0mself\u001b[0m\u001b[0;34m.\u001b[0m\u001b[0m_next_data\u001b[0m\u001b[0;34m(\u001b[0m\u001b[0;34m)\u001b[0m\u001b[0;34m\u001b[0m\u001b[0;34m\u001b[0m\u001b[0m\n\u001b[0m\u001b[1;32m    364\u001b[0m         \u001b[0mself\u001b[0m\u001b[0;34m.\u001b[0m\u001b[0m_num_yielded\u001b[0m \u001b[0;34m+=\u001b[0m \u001b[0;36m1\u001b[0m\u001b[0;34m\u001b[0m\u001b[0;34m\u001b[0m\u001b[0m\n\u001b[1;32m    365\u001b[0m         \u001b[0;32mif\u001b[0m \u001b[0mself\u001b[0m\u001b[0;34m.\u001b[0m\u001b[0m_dataset_kind\u001b[0m \u001b[0;34m==\u001b[0m \u001b[0m_DatasetKind\u001b[0m\u001b[0;34m.\u001b[0m\u001b[0mIterable\u001b[0m \u001b[0;32mand\u001b[0m\u001b[0;31m \u001b[0m\u001b[0;31m\\\u001b[0m\u001b[0;34m\u001b[0m\u001b[0;34m\u001b[0m\u001b[0m\n",
      "\u001b[0;32m~/.conda/envs/py37/lib/python3.7/site-packages/torch/utils/data/dataloader.py\u001b[0m in \u001b[0;36m_next_data\u001b[0;34m(self)\u001b[0m\n\u001b[1;32m    972\u001b[0m \u001b[0;34m\u001b[0m\u001b[0m\n\u001b[1;32m    973\u001b[0m             \u001b[0;32massert\u001b[0m \u001b[0;32mnot\u001b[0m \u001b[0mself\u001b[0m\u001b[0;34m.\u001b[0m\u001b[0m_shutdown\u001b[0m \u001b[0;32mand\u001b[0m \u001b[0mself\u001b[0m\u001b[0;34m.\u001b[0m\u001b[0m_tasks_outstanding\u001b[0m \u001b[0;34m>\u001b[0m \u001b[0;36m0\u001b[0m\u001b[0;34m\u001b[0m\u001b[0;34m\u001b[0m\u001b[0m\n\u001b[0;32m--> 974\u001b[0;31m             \u001b[0midx\u001b[0m\u001b[0;34m,\u001b[0m \u001b[0mdata\u001b[0m \u001b[0;34m=\u001b[0m \u001b[0mself\u001b[0m\u001b[0;34m.\u001b[0m\u001b[0m_get_data\u001b[0m\u001b[0;34m(\u001b[0m\u001b[0;34m)\u001b[0m\u001b[0;34m\u001b[0m\u001b[0;34m\u001b[0m\u001b[0m\n\u001b[0m\u001b[1;32m    975\u001b[0m             \u001b[0mself\u001b[0m\u001b[0;34m.\u001b[0m\u001b[0m_tasks_outstanding\u001b[0m \u001b[0;34m-=\u001b[0m \u001b[0;36m1\u001b[0m\u001b[0;34m\u001b[0m\u001b[0;34m\u001b[0m\u001b[0m\n\u001b[1;32m    976\u001b[0m \u001b[0;34m\u001b[0m\u001b[0m\n",
      "\u001b[0;32m~/.conda/envs/py37/lib/python3.7/site-packages/torch/utils/data/dataloader.py\u001b[0m in \u001b[0;36m_get_data\u001b[0;34m(self)\u001b[0m\n\u001b[1;32m    929\u001b[0m         \u001b[0;32melif\u001b[0m \u001b[0mself\u001b[0m\u001b[0;34m.\u001b[0m\u001b[0m_pin_memory\u001b[0m\u001b[0;34m:\u001b[0m\u001b[0;34m\u001b[0m\u001b[0;34m\u001b[0m\u001b[0m\n\u001b[1;32m    930\u001b[0m             \u001b[0;32mwhile\u001b[0m \u001b[0mself\u001b[0m\u001b[0;34m.\u001b[0m\u001b[0m_pin_memory_thread\u001b[0m\u001b[0;34m.\u001b[0m\u001b[0mis_alive\u001b[0m\u001b[0;34m(\u001b[0m\u001b[0;34m)\u001b[0m\u001b[0;34m:\u001b[0m\u001b[0;34m\u001b[0m\u001b[0;34m\u001b[0m\u001b[0m\n\u001b[0;32m--> 931\u001b[0;31m                 \u001b[0msuccess\u001b[0m\u001b[0;34m,\u001b[0m \u001b[0mdata\u001b[0m \u001b[0;34m=\u001b[0m \u001b[0mself\u001b[0m\u001b[0;34m.\u001b[0m\u001b[0m_try_get_data\u001b[0m\u001b[0;34m(\u001b[0m\u001b[0;34m)\u001b[0m\u001b[0;34m\u001b[0m\u001b[0;34m\u001b[0m\u001b[0m\n\u001b[0m\u001b[1;32m    932\u001b[0m                 \u001b[0;32mif\u001b[0m \u001b[0msuccess\u001b[0m\u001b[0;34m:\u001b[0m\u001b[0;34m\u001b[0m\u001b[0;34m\u001b[0m\u001b[0m\n\u001b[1;32m    933\u001b[0m                     \u001b[0;32mreturn\u001b[0m \u001b[0mdata\u001b[0m\u001b[0;34m\u001b[0m\u001b[0;34m\u001b[0m\u001b[0m\n",
      "\u001b[0;32m~/.conda/envs/py37/lib/python3.7/site-packages/torch/utils/data/dataloader.py\u001b[0m in \u001b[0;36m_try_get_data\u001b[0;34m(self, timeout)\u001b[0m\n\u001b[1;32m    777\u001b[0m         \u001b[0;31m#   (bool: whether successfully get data, any: data if successful else None)\u001b[0m\u001b[0;34m\u001b[0m\u001b[0;34m\u001b[0m\u001b[0;34m\u001b[0m\u001b[0m\n\u001b[1;32m    778\u001b[0m         \u001b[0;32mtry\u001b[0m\u001b[0;34m:\u001b[0m\u001b[0;34m\u001b[0m\u001b[0;34m\u001b[0m\u001b[0m\n\u001b[0;32m--> 779\u001b[0;31m             \u001b[0mdata\u001b[0m \u001b[0;34m=\u001b[0m \u001b[0mself\u001b[0m\u001b[0;34m.\u001b[0m\u001b[0m_data_queue\u001b[0m\u001b[0;34m.\u001b[0m\u001b[0mget\u001b[0m\u001b[0;34m(\u001b[0m\u001b[0mtimeout\u001b[0m\u001b[0;34m=\u001b[0m\u001b[0mtimeout\u001b[0m\u001b[0;34m)\u001b[0m\u001b[0;34m\u001b[0m\u001b[0;34m\u001b[0m\u001b[0m\n\u001b[0m\u001b[1;32m    780\u001b[0m             \u001b[0;32mreturn\u001b[0m \u001b[0;34m(\u001b[0m\u001b[0;32mTrue\u001b[0m\u001b[0;34m,\u001b[0m \u001b[0mdata\u001b[0m\u001b[0;34m)\u001b[0m\u001b[0;34m\u001b[0m\u001b[0;34m\u001b[0m\u001b[0m\n\u001b[1;32m    781\u001b[0m         \u001b[0;32mexcept\u001b[0m \u001b[0mException\u001b[0m \u001b[0;32mas\u001b[0m \u001b[0me\u001b[0m\u001b[0;34m:\u001b[0m\u001b[0;34m\u001b[0m\u001b[0;34m\u001b[0m\u001b[0m\n",
      "\u001b[0;32m~/.conda/envs/py37/lib/python3.7/queue.py\u001b[0m in \u001b[0;36mget\u001b[0;34m(self, block, timeout)\u001b[0m\n\u001b[1;32m    177\u001b[0m                     \u001b[0;32mif\u001b[0m \u001b[0mremaining\u001b[0m \u001b[0;34m<=\u001b[0m \u001b[0;36m0.0\u001b[0m\u001b[0;34m:\u001b[0m\u001b[0;34m\u001b[0m\u001b[0;34m\u001b[0m\u001b[0m\n\u001b[1;32m    178\u001b[0m                         \u001b[0;32mraise\u001b[0m \u001b[0mEmpty\u001b[0m\u001b[0;34m\u001b[0m\u001b[0;34m\u001b[0m\u001b[0m\n\u001b[0;32m--> 179\u001b[0;31m                     \u001b[0mself\u001b[0m\u001b[0;34m.\u001b[0m\u001b[0mnot_empty\u001b[0m\u001b[0;34m.\u001b[0m\u001b[0mwait\u001b[0m\u001b[0;34m(\u001b[0m\u001b[0mremaining\u001b[0m\u001b[0;34m)\u001b[0m\u001b[0;34m\u001b[0m\u001b[0;34m\u001b[0m\u001b[0m\n\u001b[0m\u001b[1;32m    180\u001b[0m             \u001b[0mitem\u001b[0m \u001b[0;34m=\u001b[0m \u001b[0mself\u001b[0m\u001b[0;34m.\u001b[0m\u001b[0m_get\u001b[0m\u001b[0;34m(\u001b[0m\u001b[0;34m)\u001b[0m\u001b[0;34m\u001b[0m\u001b[0;34m\u001b[0m\u001b[0m\n\u001b[1;32m    181\u001b[0m             \u001b[0mself\u001b[0m\u001b[0;34m.\u001b[0m\u001b[0mnot_full\u001b[0m\u001b[0;34m.\u001b[0m\u001b[0mnotify\u001b[0m\u001b[0;34m(\u001b[0m\u001b[0;34m)\u001b[0m\u001b[0;34m\u001b[0m\u001b[0;34m\u001b[0m\u001b[0m\n",
      "\u001b[0;32m~/.conda/envs/py37/lib/python3.7/threading.py\u001b[0m in \u001b[0;36mwait\u001b[0;34m(self, timeout)\u001b[0m\n\u001b[1;32m    298\u001b[0m             \u001b[0;32melse\u001b[0m\u001b[0;34m:\u001b[0m\u001b[0;34m\u001b[0m\u001b[0;34m\u001b[0m\u001b[0m\n\u001b[1;32m    299\u001b[0m                 \u001b[0;32mif\u001b[0m \u001b[0mtimeout\u001b[0m \u001b[0;34m>\u001b[0m \u001b[0;36m0\u001b[0m\u001b[0;34m:\u001b[0m\u001b[0;34m\u001b[0m\u001b[0;34m\u001b[0m\u001b[0m\n\u001b[0;32m--> 300\u001b[0;31m                     \u001b[0mgotit\u001b[0m \u001b[0;34m=\u001b[0m \u001b[0mwaiter\u001b[0m\u001b[0;34m.\u001b[0m\u001b[0macquire\u001b[0m\u001b[0;34m(\u001b[0m\u001b[0;32mTrue\u001b[0m\u001b[0;34m,\u001b[0m \u001b[0mtimeout\u001b[0m\u001b[0;34m)\u001b[0m\u001b[0;34m\u001b[0m\u001b[0;34m\u001b[0m\u001b[0m\n\u001b[0m\u001b[1;32m    301\u001b[0m                 \u001b[0;32melse\u001b[0m\u001b[0;34m:\u001b[0m\u001b[0;34m\u001b[0m\u001b[0;34m\u001b[0m\u001b[0m\n\u001b[1;32m    302\u001b[0m                     \u001b[0mgotit\u001b[0m \u001b[0;34m=\u001b[0m \u001b[0mwaiter\u001b[0m\u001b[0;34m.\u001b[0m\u001b[0macquire\u001b[0m\u001b[0;34m(\u001b[0m\u001b[0;32mFalse\u001b[0m\u001b[0;34m)\u001b[0m\u001b[0;34m\u001b[0m\u001b[0;34m\u001b[0m\u001b[0m\n",
      "\u001b[0;31mKeyboardInterrupt\u001b[0m: "
     ]
    }
   ],
   "source": [
    "train(args, siamNetwork, device, loss_fn, train_loader, optimizer, args['epochs'])"
   ]
  },
  {
   "cell_type": "code",
   "execution_count": 13,
   "id": "handy-stick",
   "metadata": {},
   "outputs": [],
   "source": [
    "torch.save({\n",
    "    'epoch': args['epochs'],\n",
    "    'model_state_dict': siamNetwork.state_dict(),\n",
    "    'optimizer_state_dict': optimizer.state_dict(),\n",
    "    }, 'checkpoints/siamese_3epoch_1wsi_lossSum.pth.tar')"
   ]
  },
  {
   "cell_type": "code",
   "execution_count": 61,
   "id": "fallen-employer",
   "metadata": {},
   "outputs": [],
   "source": [
    "checkpoint = torch.load('checkpoints/siamese_3epoch_1wsi_lossSum.pth.tar')\n",
    "args['epochs'] = checkpoint['epoch']\n",
    "siamNetwork.load_state_dict(checkpoint['model_state_dict'])\n",
    "optimizer.load_state_dict(checkpoint['optimizer_state_dict'])"
   ]
  },
  {
   "cell_type": "code",
   "execution_count": 11,
   "id": "pending-register",
   "metadata": {},
   "outputs": [
    {
     "data": {
      "text/plain": [
       "mpl_toolkits.mplot3d.axes3d.Axes3D"
      ]
     },
     "execution_count": 11,
     "metadata": {},
     "output_type": "execute_result"
    }
   ],
   "source": [
    "from sklearn import manifold\n",
    "from mpl_toolkits.mplot3d import Axes3D\n",
    "from time import time\n",
    "from matplotlib.ticker import NullFormatter\n",
    "import matplotlib.pyplot as plt\n",
    "%matplotlib inline\n",
    "\n",
    "# Next line to silence pyflakes. This import is needed.\n",
    "Axes3D\n",
    "\n"
   ]
  },
  {
   "cell_type": "code",
   "execution_count": 12,
   "id": "italian-absence",
   "metadata": {},
   "outputs": [],
   "source": [
    "# get 2000 images embedded for tsne\n",
    "img_file_list = glob.glob(\"/home/Drive3/Karman/TCGA_dataset/TCGA-A1-A0SD-01Z-00-DX1.DB17BFA9-D951-42A8-91D2-F4C2EBC6EB9F/*.png\")\n",
    "dataset = SiamDataset(img_file_list, mode='create', detailed=True)"
   ]
  },
  {
   "cell_type": "code",
   "execution_count": 13,
   "id": "nasty-explorer",
   "metadata": {},
   "outputs": [
    {
     "name": "stderr",
     "output_type": "stream",
     "text": [
      "[running kmeans]: 0it [00:00, ?it/s]/home/shrey/.conda/envs/py37/lib/python3.7/site-packages/kmeans_pytorch/__init__.py:63: UserWarning: This overload of nonzero is deprecated:\n",
      "\tnonzero(Tensor input, *, Tensor out)\n",
      "Consider using one of the following signatures instead:\n",
      "\tnonzero(Tensor input, *, bool as_tuple) (Triggered internally at  /opt/conda/conda-bld/pytorch_1595629427478/work/torch/csrc/utils/python_arg_parser.cpp:766.)\n",
      "  selected = torch.nonzero(choice_cluster == index).squeeze().to(device)\n",
      "[running kmeans]: 9it [00:00,  9.55it/s, center_shift=0.085261, iteration=10, tol=0.000100] "
     ]
    },
    {
     "name": "stdout",
     "output_type": "stream",
     "text": [
      "running k-means on cuda:0..\n"
     ]
    },
    {
     "name": "stderr",
     "output_type": "stream",
     "text": [
      "[running kmeans]: 32it [00:00, 81.12it/s, center_shift=0.000000, iteration=33, tol=0.000100]"
     ]
    },
    {
     "name": "stdout",
     "output_type": "stream",
     "text": [
      "time: 0.41 sec\n"
     ]
    }
   ],
   "source": [
    "from kmeans_pytorch import kmeans\n",
    "\n",
    "torch.manual_seed(90515)\n",
    "random.seed(88054)\n",
    "\n",
    "\n",
    "count = 0\n",
    "num_samples = 2000\n",
    "wsi_idx_list = [0]*num_samples\n",
    "pt_list = np.zeros([num_samples,2])\n",
    "sample_size = 512\n",
    "\n",
    "x_cluster = torch.Tensor(num_samples, sample_size)\n",
    "# print(x_cluster)\n",
    "# torch.cat(data_arr, dim=0, out=x_cluster)\n",
    "# #torch.cat(data_arr, dim=0)\n",
    "# print(x_cluster.shape)\n",
    "\n",
    "\n",
    "siamNetwork.eval()\n",
    "\n",
    "with torch.no_grad():\n",
    "    for idx in range(num_samples):\n",
    "        wsi_idx, i,j, img = dataset.sample_detailed()\n",
    "        wsi_idx_list[idx] = wsi_idx\n",
    "        pt_list[idx,:] = i,j \n",
    "        x_cluster[idx,:] = siamNetwork.forward_once(img.unsqueeze(dim=0).to(device))\n",
    "        del img\n",
    "\n",
    "\n",
    "\n",
    "\n",
    "num_clusters = 5\n",
    "\n",
    "t0 = time()\n",
    "cluster_ids_x, cluster_centers = kmeans(\n",
    "    X=x_cluster, num_clusters=num_clusters, distance='euclidean', device=torch.device('cuda:0')\n",
    ")\n",
    "t1 = time()\n",
    "print(\"%s: %.2g sec\" % (\"time\", t1 - t0))\n"
   ]
  },
  {
   "cell_type": "code",
   "execution_count": 14,
   "id": "endless-astrology",
   "metadata": {},
   "outputs": [
    {
     "data": {
      "text/plain": [
       "tensor([1.3781e-01, 7.6303e-02, 0.0000e+00, 1.7983e-01, 2.3324e-01, 1.0005e+00,\n",
       "        3.4917e-02, 6.7150e-02, 3.3841e-01, 3.4023e-01, 7.5580e-03, 4.3655e-01,\n",
       "        2.3015e-03, 6.8517e-02, 5.5778e-01, 3.7185e-01, 1.2679e-01, 9.6775e-01,\n",
       "        4.3520e-01, 1.8061e-01, 7.2678e-02, 0.0000e+00, 2.6901e-01, 1.3074e-01,\n",
       "        3.1888e-01, 8.4583e-03, 7.9197e-01, 5.5531e-02, 0.0000e+00, 8.1898e-02,\n",
       "        5.1418e-02, 1.9162e-01, 1.1145e+00, 1.1975e-02, 4.5592e-01, 4.7768e-02,\n",
       "        5.5515e-01, 1.9726e-01, 5.5710e-02, 3.4494e-01, 7.3024e-02, 1.9776e-01,\n",
       "        7.0447e-01, 1.3577e-01, 6.7199e-02, 1.4013e-01, 3.4603e-02, 5.1206e-01,\n",
       "        1.1698e-01, 8.4848e-01, 1.9210e-01, 6.5397e-01, 1.2098e-01, 3.3945e-01,\n",
       "        9.2562e-02, 3.2870e-01, 3.6003e-01, 4.2704e-02, 2.2543e-01, 1.3353e-01,\n",
       "        3.2144e-03, 1.8605e-03, 5.8400e-02, 2.1201e-02, 3.4873e-01, 2.9126e-01,\n",
       "        1.9976e-01, 1.7511e-02, 4.4369e-01, 1.0328e-01, 8.3570e-02, 2.7746e-01,\n",
       "        4.3008e-01, 2.1204e-01, 2.0182e-01, 2.4746e-01, 5.3943e-01, 5.7381e-01,\n",
       "        3.7718e-01, 3.3714e-02, 3.0819e-01, 1.7968e-01, 7.5360e-01, 1.6361e-01,\n",
       "        1.3070e-02, 0.0000e+00, 6.5064e-01, 3.1246e-01, 4.5533e-01, 1.7574e-01,\n",
       "        5.6449e-03, 7.7208e-01, 4.0053e-02, 1.6268e-01, 0.0000e+00, 1.0936e-01,\n",
       "        5.3845e-02, 1.4810e-01, 3.8263e-01, 4.1109e-05, 8.3965e-01, 3.1354e-02,\n",
       "        3.2992e-01, 1.6898e-02, 5.8757e-01, 3.4878e-01, 3.4702e-02, 1.0645e-01,\n",
       "        2.4942e-01, 5.0781e-03, 7.6958e-01, 1.4464e-01, 5.0527e-02, 6.0446e-02,\n",
       "        5.5172e-01, 6.9882e-03, 8.6085e-01, 5.1633e-01, 3.4208e-02, 1.0871e+00,\n",
       "        2.9173e-01, 5.7501e-01, 0.0000e+00, 6.0199e-01, 1.7866e-02, 1.0516e-01,\n",
       "        3.3273e-01, 7.8841e-03, 7.8050e-02, 2.0263e-03, 1.9030e-01, 4.1541e-01,\n",
       "        3.2255e-01, 3.7835e-01, 4.8724e-01, 4.5898e-02, 3.1567e-03, 1.3467e-01,\n",
       "        1.4510e-01, 7.0025e-03, 1.1913e-01, 1.0025e-01, 1.4150e-01, 5.0071e-01,\n",
       "        2.3669e-01, 2.9372e-01, 9.3536e-01, 6.8813e-02, 7.1651e-01, 4.0201e-01,\n",
       "        3.3894e-01, 0.0000e+00, 1.7114e-02, 2.4783e-01, 1.2387e-01, 1.8331e-01,\n",
       "        3.4483e-01, 2.3383e-02, 1.1261e-01, 5.7150e-02, 6.1966e-01, 5.4313e-02,\n",
       "        2.2661e-01, 3.5562e-03, 5.1318e-02, 4.9921e-02, 2.5962e-01, 6.3589e-01,\n",
       "        4.4561e-01, 1.5126e-02, 1.3206e+00, 1.5175e-01, 1.3382e-02, 1.8857e-01,\n",
       "        1.8619e-01, 5.4929e-01, 1.7104e-01, 3.9306e-02, 2.0124e-01, 2.8085e-01,\n",
       "        7.1017e-02, 4.6303e-01, 8.3583e-01, 5.8920e-02, 5.6307e-02, 3.5983e-01,\n",
       "        3.0512e-03, 4.8621e-02, 1.3553e-02, 6.4543e-02, 4.0066e-02, 4.3766e-01,\n",
       "        3.8036e-01, 5.5864e-01, 5.6179e-01, 9.1882e-02, 1.6199e-03, 6.5072e-02,\n",
       "        2.3924e-01, 9.9235e-01, 8.4523e-01, 3.3298e-01, 1.6965e-03, 0.0000e+00,\n",
       "        8.7145e-02, 1.3202e-01, 6.1858e-04, 2.1979e-01, 4.8787e-02, 2.5561e-01,\n",
       "        7.3049e-02, 1.3340e-01, 1.2471e-01, 1.6026e-01, 7.3088e-01, 3.3154e-01,\n",
       "        6.7598e-01, 5.7034e-01, 3.8775e-02, 5.6274e-01, 1.0013e-01, 6.9502e-01,\n",
       "        7.2413e-02, 4.9688e-01, 8.0525e-02, 3.6424e-03, 9.8017e-02, 4.5587e-01,\n",
       "        1.6131e-01, 2.3569e-01, 3.1067e-02, 1.4646e-01, 1.6885e-01, 2.1075e-01,\n",
       "        8.8700e-02, 1.9627e-01, 6.3526e-01, 5.0630e-02, 2.1718e-01, 3.4603e-01,\n",
       "        2.7564e-01, 4.8446e-01, 8.3340e-02, 4.4515e-03, 1.4521e-01, 7.7098e-01,\n",
       "        5.8801e-02, 1.7981e-01, 1.4808e-01, 4.8620e-01, 2.0570e-03, 3.5749e-02,\n",
       "        1.7738e-02, 2.8742e-01, 3.5916e-02, 1.1945e-01, 1.0078e-01, 4.0216e-01,\n",
       "        6.4749e-02, 2.3135e-01, 1.4892e-01, 2.0857e-01, 5.3307e-01, 4.2886e-02,\n",
       "        7.0730e-02, 1.0990e-01, 2.2869e-01, 4.3275e-01, 7.5832e-02, 3.3866e-01,\n",
       "        1.0185e-01, 5.3388e-01, 2.9098e-02, 1.4687e-01, 2.8605e-03, 6.1050e-02,\n",
       "        1.3556e-01, 1.3499e+00, 2.1719e-01, 4.3703e-01, 3.0390e-01, 2.9995e-01,\n",
       "        1.8475e-02, 2.2930e-02, 9.9058e-02, 5.4029e-01, 1.0510e-01, 3.1704e-02,\n",
       "        2.9585e-01, 2.4933e-01, 2.3685e-02, 1.2196e-01, 1.2389e-01, 1.0666e-01,\n",
       "        7.5615e-01, 5.2285e-01, 2.0334e-01, 9.4026e-01, 2.4809e-01, 2.9059e-01,\n",
       "        7.7088e-02, 3.1793e-01, 6.4766e-02, 1.0931e+00, 1.7087e-01, 2.2732e-01,\n",
       "        9.2291e-01, 3.1084e-02, 1.8593e-01, 8.0685e-02, 3.7463e-01, 0.0000e+00,\n",
       "        2.0670e-01, 1.4125e-01, 7.1975e-01, 4.8242e-01, 2.7629e-02, 1.7115e-01,\n",
       "        5.2690e-01, 2.0520e-02, 1.5211e-02, 9.7099e-02, 7.2269e-01, 1.2406e-02,\n",
       "        1.5421e-02, 1.3553e-01, 1.6620e-01, 4.4161e-02, 2.1033e-02, 2.1859e-01,\n",
       "        4.8466e-01, 1.4422e-01, 5.2799e-01, 1.4065e-01, 4.7624e-01, 5.6632e-01,\n",
       "        1.4649e-02, 0.0000e+00, 5.9829e-02, 5.7661e-01, 3.0034e-02, 1.3320e-01,\n",
       "        7.1198e-04, 1.8607e-01, 3.6189e-01, 2.1261e-01, 4.1712e-01, 9.6994e-02,\n",
       "        8.0904e-02, 6.6541e-01, 5.6195e-01, 2.1829e-01, 2.7595e-02, 1.8510e-01,\n",
       "        3.6761e-02, 6.8292e-01, 2.9915e-02, 8.4893e-02, 3.2401e-01, 4.5471e-01,\n",
       "        1.0836e-02, 1.9390e-03, 5.3924e-03, 0.0000e+00, 8.5114e-01, 5.1940e-02,\n",
       "        1.5392e-02, 8.6306e-01, 1.7892e+00, 6.0072e-01, 1.6498e-01, 1.0365e-01,\n",
       "        4.6457e-01, 2.0420e-01, 6.7396e-03, 3.7796e-01, 1.0583e-01, 6.5196e-02,\n",
       "        2.1576e-01, 0.0000e+00, 6.1915e-01, 6.2167e-01, 3.6127e-01, 7.0028e-02,\n",
       "        5.7679e-02, 0.0000e+00, 5.6288e-01, 4.8335e-01, 6.2264e-01, 7.1901e-01,\n",
       "        3.9477e-02, 4.4910e-01, 2.6435e-01, 1.4223e-01, 7.8751e-02, 2.0880e-01,\n",
       "        6.6349e-01, 2.1933e-01, 1.4313e-01, 9.7252e-02, 8.7807e-02, 1.5418e-01,\n",
       "        3.5489e-01, 2.6936e-02, 1.1407e-01, 1.9667e-01, 9.9819e-03, 1.2810e-02,\n",
       "        2.6417e-01, 3.6995e-01, 1.1758e-01, 1.1329e-01, 9.8532e-02, 1.2134e-01,\n",
       "        4.1492e-01, 4.2220e-01, 4.6312e-01, 1.7735e-02, 1.4871e-01, 8.7857e-02,\n",
       "        2.6836e-01, 4.4432e-01, 9.4708e-02, 1.9933e-01, 1.1053e-01, 1.5780e-01,\n",
       "        5.7603e-02, 3.0461e-02, 5.7570e-01, 1.9687e+00, 1.1535e-01, 1.9959e-01,\n",
       "        3.8545e-02, 1.7854e-01, 1.4007e-01, 5.2998e-02, 2.4979e-01, 7.3057e-02,\n",
       "        1.9220e-01, 1.4159e-01, 6.4523e-01, 2.5759e-02, 1.4758e-01, 1.8489e-01,\n",
       "        8.4422e-02, 1.4907e-01, 2.4338e-01, 1.2612e-01, 2.3125e-01, 2.6130e-01,\n",
       "        4.5247e-03, 1.3118e+00, 2.0351e-01, 3.6297e-01, 6.1173e-03, 3.0384e-01,\n",
       "        6.2121e-01, 6.9615e-03, 3.7261e-01, 1.4964e-02, 7.8860e-02, 3.6691e-02,\n",
       "        2.6145e-01, 2.8342e-02, 6.5913e-02, 2.5738e-01, 2.4748e-02, 1.7478e-02,\n",
       "        1.2878e-02, 1.0527e+00, 2.6489e-01, 1.5520e-01, 1.6217e-01, 3.1939e-01,\n",
       "        2.6649e-01, 2.6600e-01, 2.3619e-01, 3.1964e-01, 6.4047e-02, 3.4703e-02,\n",
       "        7.4757e-02, 1.8855e+00, 9.8885e-02, 2.1666e-01, 1.6944e-01, 1.9892e-01,\n",
       "        3.2164e-01, 4.4074e-02, 5.5157e-01, 1.4294e-01, 1.1547e-02, 6.2574e-03,\n",
       "        3.4384e-01, 5.7767e-01, 5.7442e-01, 3.8200e-01, 6.6026e-02, 2.2281e-01,\n",
       "        3.3352e-02, 2.0857e-01, 2.2053e-01, 8.0661e-01, 3.2990e-01, 3.0174e-01,\n",
       "        5.4377e-01, 3.6713e-02, 3.0606e-01, 2.1615e-02, 1.2884e-01, 1.2433e-01,\n",
       "        3.1519e-01, 1.3476e+00])"
      ]
     },
     "execution_count": 14,
     "metadata": {},
     "output_type": "execute_result"
    }
   ],
   "source": [
    "x_cluster[0,:]"
   ]
  },
  {
   "cell_type": "code",
   "execution_count": 15,
   "id": "annual-pharmacology",
   "metadata": {},
   "outputs": [
    {
     "name": "stdout",
     "output_type": "stream",
     "text": [
      "<class 'torch.Tensor'>\n",
      "torch.Size([2000, 512])\n",
      "<class 'numpy.ndarray'>\n",
      "(2000, 512)\n"
     ]
    }
   ],
   "source": [
    "print(type(x_cluster))\n",
    "print(x_cluster.shape)\n",
    "\n",
    "X = x_cluster.numpy()\n",
    "\n",
    "print(type(X))\n",
    "print(X.shape)"
   ]
  },
  {
   "cell_type": "code",
   "execution_count": 16,
   "id": "political-winner",
   "metadata": {},
   "outputs": [],
   "source": [
    "# x = data_arr\n",
    "# x = np.asarray([i.cpu().numpy() for i in x])\n",
    "# X = x.squeeze()\n",
    "\n",
    "X = x_cluster.numpy()\n",
    "\n",
    "# n_components = X.shape[-1]\n",
    "n_components = 2\n",
    "\n",
    "method = manifold.TSNE(n_components=n_components, init='pca', random_state=79)\n"
   ]
  },
  {
   "cell_type": "code",
   "execution_count": 17,
   "id": "occasional-nicholas",
   "metadata": {},
   "outputs": [
    {
     "name": "stderr",
     "output_type": "stream",
     "text": [
      "[running kmeans]: 33it [00:00, 68.96it/s, center_shift=0.000000, iteration=33, tol=0.000100]\n"
     ]
    },
    {
     "name": "stdout",
     "output_type": "stream",
     "text": [
      "time: 8.7 sec\n"
     ]
    },
    {
     "data": {
      "image/png": "[encoded data removed]",
      "text/plain": [
       "<Figure size 432x360 with 1 Axes>"
      ]
     },
     "metadata": {
      "needs_background": "light"
     },
     "output_type": "display_data"
    }
   ],
   "source": [
    "# # Create figure\n",
    "# fig = plt.figure()\n",
    "\n",
    "# # Add 3d scatter plot\n",
    "# ax = fig.add_subplot(251, projection='3d')\n",
    "# ax.scatter(X[:, 0], X[:, 1], X[:, 2], cmap=plt.cm.Spectral)\n",
    "# ax.view_init(4, -72)\n",
    "\n",
    "t0 = time()\n",
    "Y = method.fit_transform(X)\n",
    "t1 = time()\n",
    "print(\"%s: %.2g sec\" % (\"time\", t1 - t0))\n",
    "# # ax = fig.add_subplot(2, 5, 2 + i + (i > 3))\n",
    "# ax.scatter(Y[:, 0], Y[:, 1], cmap=plt.cm.Spectral)\n",
    "# ax.set_title(\"%s (%.2g sec)\" % (label, t1 - t0))\n",
    "# ax.xaxis.set_major_formatter(NullFormatter())\n",
    "# ax.yaxis.set_major_formatter(NullFormatter())\n",
    "# ax.axis('tight')\n",
    "\n",
    "# plt.show()\n",
    "\n",
    "\n",
    "\n",
    "\n",
    "plt.figure(figsize=(6, 5))\n",
    "colors = 'r', 'g', 'b', 'c', 'm'#, 'y', 'k', 'w', 'orange', 'purple'\n",
    "labels = ['1', '2', '3', '4', '5']\n",
    "for i in range(num_clusters):\n",
    "    plt.scatter(Y[cluster_ids_x==i, 0], Y[cluster_ids_x==i, 1], c=colors[i], label=labels[i])\n",
    "plt.legend()\n",
    "plt.show()"
   ]
  },
  {
   "cell_type": "code",
   "execution_count": 16,
   "id": "extraordinary-steel",
   "metadata": {},
   "outputs": [
    {
     "name": "stdout",
     "output_type": "stream",
     "text": [
      "tensor([[2.8026e-45],\n",
      "        [0.0000e+00],\n",
      "        [1.2920e-17],\n",
      "        ...,\n",
      "        [0.0000e+00],\n",
      "        [0.0000e+00],\n",
      "        [0.0000e+00]])\n",
      "torch.Size([2000, 512])\n",
      "running k-means on cuda:0..\n"
     ]
    },
    {
     "ename": "RuntimeError",
     "evalue": "CUDA error: an illegal memory access was encountered",
     "output_type": "error",
     "traceback": [
      "\u001b[0;31m---------------------------------------------------------------------------\u001b[0m",
      "\u001b[0;31mRuntimeError\u001b[0m                              Traceback (most recent call last)",
      "\u001b[0;32m<ipython-input-16-b5769b7b2a7d>\u001b[0m in \u001b[0;36m<module>\u001b[0;34m\u001b[0m\n\u001b[1;32m     12\u001b[0m \u001b[0mt0\u001b[0m \u001b[0;34m=\u001b[0m \u001b[0mtime\u001b[0m\u001b[0;34m(\u001b[0m\u001b[0;34m)\u001b[0m\u001b[0;34m\u001b[0m\u001b[0;34m\u001b[0m\u001b[0m\n\u001b[1;32m     13\u001b[0m cluster_ids_x, cluster_centers = kmeans(\n\u001b[0;32m---> 14\u001b[0;31m     \u001b[0mX\u001b[0m\u001b[0;34m=\u001b[0m\u001b[0mx_cluster\u001b[0m\u001b[0;34m,\u001b[0m \u001b[0mnum_clusters\u001b[0m\u001b[0;34m=\u001b[0m\u001b[0mnum_clusters\u001b[0m\u001b[0;34m,\u001b[0m \u001b[0mdistance\u001b[0m\u001b[0;34m=\u001b[0m\u001b[0;34m'euclidean'\u001b[0m\u001b[0;34m,\u001b[0m \u001b[0mdevice\u001b[0m\u001b[0;34m=\u001b[0m\u001b[0mtorch\u001b[0m\u001b[0;34m.\u001b[0m\u001b[0mdevice\u001b[0m\u001b[0;34m(\u001b[0m\u001b[0;34m'cuda:0'\u001b[0m\u001b[0;34m)\u001b[0m\u001b[0;34m\u001b[0m\u001b[0;34m\u001b[0m\u001b[0m\n\u001b[0m\u001b[1;32m     15\u001b[0m )\n\u001b[1;32m     16\u001b[0m \u001b[0mt1\u001b[0m \u001b[0;34m=\u001b[0m \u001b[0mtime\u001b[0m\u001b[0;34m(\u001b[0m\u001b[0;34m)\u001b[0m\u001b[0;34m\u001b[0m\u001b[0;34m\u001b[0m\u001b[0m\n",
      "\u001b[0;32m~/.conda/envs/py37/lib/python3.7/site-packages/kmeans_pytorch/__init__.py\u001b[0m in \u001b[0;36mkmeans\u001b[0;34m(X, num_clusters, distance, tol, device)\u001b[0m\n\u001b[1;32m     46\u001b[0m \u001b[0;34m\u001b[0m\u001b[0m\n\u001b[1;32m     47\u001b[0m     \u001b[0;31m# transfer to device\u001b[0m\u001b[0;34m\u001b[0m\u001b[0;34m\u001b[0m\u001b[0;34m\u001b[0m\u001b[0m\n\u001b[0;32m---> 48\u001b[0;31m     \u001b[0mX\u001b[0m \u001b[0;34m=\u001b[0m \u001b[0mX\u001b[0m\u001b[0;34m.\u001b[0m\u001b[0mto\u001b[0m\u001b[0;34m(\u001b[0m\u001b[0mdevice\u001b[0m\u001b[0;34m)\u001b[0m\u001b[0;34m\u001b[0m\u001b[0;34m\u001b[0m\u001b[0m\n\u001b[0m\u001b[1;32m     49\u001b[0m \u001b[0;34m\u001b[0m\u001b[0m\n\u001b[1;32m     50\u001b[0m     \u001b[0;31m# initialize\u001b[0m\u001b[0;34m\u001b[0m\u001b[0;34m\u001b[0m\u001b[0;34m\u001b[0m\u001b[0m\n",
      "\u001b[0;31mRuntimeError\u001b[0m: CUDA error: an illegal memory access was encountered"
     ]
    }
   ],
   "source": []
  },
  {
   "cell_type": "code",
   "execution_count": null,
   "id": "intelligent-compilation",
   "metadata": {},
   "outputs": [],
   "source": []
  },
  {
   "cell_type": "code",
   "execution_count": null,
   "id": "blind-berry",
   "metadata": {},
   "outputs": [],
   "source": []
  },
  {
   "cell_type": "code",
   "execution_count": 22,
   "id": "personal-eating",
   "metadata": {},
   "outputs": [],
   "source": [
    "del data_arr"
   ]
  },
  {
   "cell_type": "code",
   "execution_count": null,
   "id": "actual-halloween",
   "metadata": {},
   "outputs": [],
   "source": []
  }
 ],
 "metadata": {
  "kernelspec": {
   "display_name": "Python [conda env:.conda-py37] *",
   "language": "python",
   "name": "conda-env-.conda-py37-py"
  },
  "language_info": {
   "codemirror_mode": {
    "name": "ipython",
    "version": 3
   },
   "file_extension": ".py",
   "mimetype": "text/x-python",
   "name": "python",
   "nbconvert_exporter": "python",
   "pygments_lexer": "ipython3",
   "version": "3.7.6"
  }
 },
 "nbformat": 4,
 "nbformat_minor": 5
}
